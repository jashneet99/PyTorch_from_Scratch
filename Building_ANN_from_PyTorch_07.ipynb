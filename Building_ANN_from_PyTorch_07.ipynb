{
  "nbformat": 4,
  "nbformat_minor": 0,
  "metadata": {
    "colab": {
      "provenance": [],
      "gpuType": "T4"
    },
    "kernelspec": {
      "name": "python3",
      "display_name": "Python 3"
    },
    "language_info": {
      "name": "python"
    },
    "accelerator": "GPU"
  },
  "cells": [
    {
      "cell_type": "code",
      "execution_count": null,
      "metadata": {
        "id": "96AJhxD6U9YM"
      },
      "outputs": [],
      "source": [
        "import pandas as pd\n",
        "from sklearn.model_selection import train_test_split\n",
        "import torch\n",
        "from torch.utils.data import Dataset, DataLoader\n",
        "import torch.nn as nn\n",
        "import torch.optim as optim\n",
        "import matplotlib.pyplot as plt"
      ]
    },
    {
      "cell_type": "code",
      "source": [
        "# set random seed for reproducibility\n",
        "\n",
        "torch.manual_seed(42)"
      ],
      "metadata": {
        "colab": {
          "base_uri": "https://localhost:8080/"
        },
        "id": "uhgflgw0VaYH",
        "outputId": "3fe0ac66-0031-429d-bdf5-7daad4ec6eb6"
      },
      "execution_count": null,
      "outputs": [
        {
          "output_type": "execute_result",
          "data": {
            "text/plain": [
              "<torch._C.Generator at 0x7db9a0135a70>"
            ]
          },
          "metadata": {},
          "execution_count": 2
        }
      ]
    },
    {
      "cell_type": "code",
      "source": [
        "## Check GPU\n",
        "\n",
        "device = torch.device(\"cuda\" if torch.cuda.is_available() else \"cpu\")\n",
        "print(f\"Using Device: {device}\")"
      ],
      "metadata": {
        "colab": {
          "base_uri": "https://localhost:8080/"
        },
        "id": "xDqcB0NrGC-A",
        "outputId": "b3e37b14-299a-4360-ce4a-4a4c1eb11a1f"
      },
      "execution_count": null,
      "outputs": [
        {
          "output_type": "stream",
          "name": "stdout",
          "text": [
            "Using Device: cuda\n"
          ]
        }
      ]
    },
    {
      "cell_type": "code",
      "source": [
        "# Dataset link:\n",
        "# https://www.kaggle.com/datasets/zalando-research/fashionmnist?resource=download"
      ],
      "metadata": {
        "id": "ZRRGPGL0GDAn"
      },
      "execution_count": null,
      "outputs": []
    },
    {
      "cell_type": "code",
      "source": [
        "df = pd.read_csv(\"/content/fashion-mnist_train.csv\")\n",
        "df.head()"
      ],
      "metadata": {
        "colab": {
          "base_uri": "https://localhost:8080/",
          "height": 256
        },
        "id": "zc6um9a7Vaa6",
        "outputId": "a98b196a-0b1a-4098-ca76-59fb3c2905a3"
      },
      "execution_count": null,
      "outputs": [
        {
          "output_type": "execute_result",
          "data": {
            "text/plain": [
              "   label  pixel1  pixel2  pixel3  pixel4  pixel5  pixel6  pixel7  pixel8  \\\n",
              "0      2       0       0       0       0       0       0       0       0   \n",
              "1      9       0       0       0       0       0       0       0       0   \n",
              "2      6       0       0       0       0       0       0       0       5   \n",
              "3      0       0       0       0       1       2       0       0       0   \n",
              "4      3       0       0       0       0       0       0       0       0   \n",
              "\n",
              "   pixel9  ...  pixel775  pixel776  pixel777  pixel778  pixel779  pixel780  \\\n",
              "0       0  ...         0         0         0         0         0         0   \n",
              "1       0  ...         0         0         0         0         0         0   \n",
              "2       0  ...         0         0         0        30        43         0   \n",
              "3       0  ...         3         0         0         0         0         1   \n",
              "4       0  ...         0         0         0         0         0         0   \n",
              "\n",
              "   pixel781  pixel782  pixel783  pixel784  \n",
              "0         0         0         0         0  \n",
              "1         0         0         0         0  \n",
              "2         0         0         0         0  \n",
              "3         0         0         0         0  \n",
              "4         0         0         0         0  \n",
              "\n",
              "[5 rows x 785 columns]"
            ],
            "text/html": [
              "\n",
              "  <div id=\"df-e3371f63-ea2d-444c-95ec-1dddab3099dc\" class=\"colab-df-container\">\n",
              "    <div>\n",
              "<style scoped>\n",
              "    .dataframe tbody tr th:only-of-type {\n",
              "        vertical-align: middle;\n",
              "    }\n",
              "\n",
              "    .dataframe tbody tr th {\n",
              "        vertical-align: top;\n",
              "    }\n",
              "\n",
              "    .dataframe thead th {\n",
              "        text-align: right;\n",
              "    }\n",
              "</style>\n",
              "<table border=\"1\" class=\"dataframe\">\n",
              "  <thead>\n",
              "    <tr style=\"text-align: right;\">\n",
              "      <th></th>\n",
              "      <th>label</th>\n",
              "      <th>pixel1</th>\n",
              "      <th>pixel2</th>\n",
              "      <th>pixel3</th>\n",
              "      <th>pixel4</th>\n",
              "      <th>pixel5</th>\n",
              "      <th>pixel6</th>\n",
              "      <th>pixel7</th>\n",
              "      <th>pixel8</th>\n",
              "      <th>pixel9</th>\n",
              "      <th>...</th>\n",
              "      <th>pixel775</th>\n",
              "      <th>pixel776</th>\n",
              "      <th>pixel777</th>\n",
              "      <th>pixel778</th>\n",
              "      <th>pixel779</th>\n",
              "      <th>pixel780</th>\n",
              "      <th>pixel781</th>\n",
              "      <th>pixel782</th>\n",
              "      <th>pixel783</th>\n",
              "      <th>pixel784</th>\n",
              "    </tr>\n",
              "  </thead>\n",
              "  <tbody>\n",
              "    <tr>\n",
              "      <th>0</th>\n",
              "      <td>2</td>\n",
              "      <td>0</td>\n",
              "      <td>0</td>\n",
              "      <td>0</td>\n",
              "      <td>0</td>\n",
              "      <td>0</td>\n",
              "      <td>0</td>\n",
              "      <td>0</td>\n",
              "      <td>0</td>\n",
              "      <td>0</td>\n",
              "      <td>...</td>\n",
              "      <td>0</td>\n",
              "      <td>0</td>\n",
              "      <td>0</td>\n",
              "      <td>0</td>\n",
              "      <td>0</td>\n",
              "      <td>0</td>\n",
              "      <td>0</td>\n",
              "      <td>0</td>\n",
              "      <td>0</td>\n",
              "      <td>0</td>\n",
              "    </tr>\n",
              "    <tr>\n",
              "      <th>1</th>\n",
              "      <td>9</td>\n",
              "      <td>0</td>\n",
              "      <td>0</td>\n",
              "      <td>0</td>\n",
              "      <td>0</td>\n",
              "      <td>0</td>\n",
              "      <td>0</td>\n",
              "      <td>0</td>\n",
              "      <td>0</td>\n",
              "      <td>0</td>\n",
              "      <td>...</td>\n",
              "      <td>0</td>\n",
              "      <td>0</td>\n",
              "      <td>0</td>\n",
              "      <td>0</td>\n",
              "      <td>0</td>\n",
              "      <td>0</td>\n",
              "      <td>0</td>\n",
              "      <td>0</td>\n",
              "      <td>0</td>\n",
              "      <td>0</td>\n",
              "    </tr>\n",
              "    <tr>\n",
              "      <th>2</th>\n",
              "      <td>6</td>\n",
              "      <td>0</td>\n",
              "      <td>0</td>\n",
              "      <td>0</td>\n",
              "      <td>0</td>\n",
              "      <td>0</td>\n",
              "      <td>0</td>\n",
              "      <td>0</td>\n",
              "      <td>5</td>\n",
              "      <td>0</td>\n",
              "      <td>...</td>\n",
              "      <td>0</td>\n",
              "      <td>0</td>\n",
              "      <td>0</td>\n",
              "      <td>30</td>\n",
              "      <td>43</td>\n",
              "      <td>0</td>\n",
              "      <td>0</td>\n",
              "      <td>0</td>\n",
              "      <td>0</td>\n",
              "      <td>0</td>\n",
              "    </tr>\n",
              "    <tr>\n",
              "      <th>3</th>\n",
              "      <td>0</td>\n",
              "      <td>0</td>\n",
              "      <td>0</td>\n",
              "      <td>0</td>\n",
              "      <td>1</td>\n",
              "      <td>2</td>\n",
              "      <td>0</td>\n",
              "      <td>0</td>\n",
              "      <td>0</td>\n",
              "      <td>0</td>\n",
              "      <td>...</td>\n",
              "      <td>3</td>\n",
              "      <td>0</td>\n",
              "      <td>0</td>\n",
              "      <td>0</td>\n",
              "      <td>0</td>\n",
              "      <td>1</td>\n",
              "      <td>0</td>\n",
              "      <td>0</td>\n",
              "      <td>0</td>\n",
              "      <td>0</td>\n",
              "    </tr>\n",
              "    <tr>\n",
              "      <th>4</th>\n",
              "      <td>3</td>\n",
              "      <td>0</td>\n",
              "      <td>0</td>\n",
              "      <td>0</td>\n",
              "      <td>0</td>\n",
              "      <td>0</td>\n",
              "      <td>0</td>\n",
              "      <td>0</td>\n",
              "      <td>0</td>\n",
              "      <td>0</td>\n",
              "      <td>...</td>\n",
              "      <td>0</td>\n",
              "      <td>0</td>\n",
              "      <td>0</td>\n",
              "      <td>0</td>\n",
              "      <td>0</td>\n",
              "      <td>0</td>\n",
              "      <td>0</td>\n",
              "      <td>0</td>\n",
              "      <td>0</td>\n",
              "      <td>0</td>\n",
              "    </tr>\n",
              "  </tbody>\n",
              "</table>\n",
              "<p>5 rows × 785 columns</p>\n",
              "</div>\n",
              "    <div class=\"colab-df-buttons\">\n",
              "\n",
              "  <div class=\"colab-df-container\">\n",
              "    <button class=\"colab-df-convert\" onclick=\"convertToInteractive('df-e3371f63-ea2d-444c-95ec-1dddab3099dc')\"\n",
              "            title=\"Convert this dataframe to an interactive table.\"\n",
              "            style=\"display:none;\">\n",
              "\n",
              "  <svg xmlns=\"http://www.w3.org/2000/svg\" height=\"24px\" viewBox=\"0 -960 960 960\">\n",
              "    <path d=\"M120-120v-720h720v720H120Zm60-500h600v-160H180v160Zm220 220h160v-160H400v160Zm0 220h160v-160H400v160ZM180-400h160v-160H180v160Zm440 0h160v-160H620v160ZM180-180h160v-160H180v160Zm440 0h160v-160H620v160Z\"/>\n",
              "  </svg>\n",
              "    </button>\n",
              "\n",
              "  <style>\n",
              "    .colab-df-container {\n",
              "      display:flex;\n",
              "      gap: 12px;\n",
              "    }\n",
              "\n",
              "    .colab-df-convert {\n",
              "      background-color: #E8F0FE;\n",
              "      border: none;\n",
              "      border-radius: 50%;\n",
              "      cursor: pointer;\n",
              "      display: none;\n",
              "      fill: #1967D2;\n",
              "      height: 32px;\n",
              "      padding: 0 0 0 0;\n",
              "      width: 32px;\n",
              "    }\n",
              "\n",
              "    .colab-df-convert:hover {\n",
              "      background-color: #E2EBFA;\n",
              "      box-shadow: 0px 1px 2px rgba(60, 64, 67, 0.3), 0px 1px 3px 1px rgba(60, 64, 67, 0.15);\n",
              "      fill: #174EA6;\n",
              "    }\n",
              "\n",
              "    .colab-df-buttons div {\n",
              "      margin-bottom: 4px;\n",
              "    }\n",
              "\n",
              "    [theme=dark] .colab-df-convert {\n",
              "      background-color: #3B4455;\n",
              "      fill: #D2E3FC;\n",
              "    }\n",
              "\n",
              "    [theme=dark] .colab-df-convert:hover {\n",
              "      background-color: #434B5C;\n",
              "      box-shadow: 0px 1px 3px 1px rgba(0, 0, 0, 0.15);\n",
              "      filter: drop-shadow(0px 1px 2px rgba(0, 0, 0, 0.3));\n",
              "      fill: #FFFFFF;\n",
              "    }\n",
              "  </style>\n",
              "\n",
              "    <script>\n",
              "      const buttonEl =\n",
              "        document.querySelector('#df-e3371f63-ea2d-444c-95ec-1dddab3099dc button.colab-df-convert');\n",
              "      buttonEl.style.display =\n",
              "        google.colab.kernel.accessAllowed ? 'block' : 'none';\n",
              "\n",
              "      async function convertToInteractive(key) {\n",
              "        const element = document.querySelector('#df-e3371f63-ea2d-444c-95ec-1dddab3099dc');\n",
              "        const dataTable =\n",
              "          await google.colab.kernel.invokeFunction('convertToInteractive',\n",
              "                                                    [key], {});\n",
              "        if (!dataTable) return;\n",
              "\n",
              "        const docLinkHtml = 'Like what you see? Visit the ' +\n",
              "          '<a target=\"_blank\" href=https://colab.research.google.com/notebooks/data_table.ipynb>data table notebook</a>'\n",
              "          + ' to learn more about interactive tables.';\n",
              "        element.innerHTML = '';\n",
              "        dataTable['output_type'] = 'display_data';\n",
              "        await google.colab.output.renderOutput(dataTable, element);\n",
              "        const docLink = document.createElement('div');\n",
              "        docLink.innerHTML = docLinkHtml;\n",
              "        element.appendChild(docLink);\n",
              "      }\n",
              "    </script>\n",
              "  </div>\n",
              "\n",
              "\n",
              "    <div id=\"df-c6b406c7-a86b-423e-bdb6-22881f04fafb\">\n",
              "      <button class=\"colab-df-quickchart\" onclick=\"quickchart('df-c6b406c7-a86b-423e-bdb6-22881f04fafb')\"\n",
              "                title=\"Suggest charts\"\n",
              "                style=\"display:none;\">\n",
              "\n",
              "<svg xmlns=\"http://www.w3.org/2000/svg\" height=\"24px\"viewBox=\"0 0 24 24\"\n",
              "     width=\"24px\">\n",
              "    <g>\n",
              "        <path d=\"M19 3H5c-1.1 0-2 .9-2 2v14c0 1.1.9 2 2 2h14c1.1 0 2-.9 2-2V5c0-1.1-.9-2-2-2zM9 17H7v-7h2v7zm4 0h-2V7h2v10zm4 0h-2v-4h2v4z\"/>\n",
              "    </g>\n",
              "</svg>\n",
              "      </button>\n",
              "\n",
              "<style>\n",
              "  .colab-df-quickchart {\n",
              "      --bg-color: #E8F0FE;\n",
              "      --fill-color: #1967D2;\n",
              "      --hover-bg-color: #E2EBFA;\n",
              "      --hover-fill-color: #174EA6;\n",
              "      --disabled-fill-color: #AAA;\n",
              "      --disabled-bg-color: #DDD;\n",
              "  }\n",
              "\n",
              "  [theme=dark] .colab-df-quickchart {\n",
              "      --bg-color: #3B4455;\n",
              "      --fill-color: #D2E3FC;\n",
              "      --hover-bg-color: #434B5C;\n",
              "      --hover-fill-color: #FFFFFF;\n",
              "      --disabled-bg-color: #3B4455;\n",
              "      --disabled-fill-color: #666;\n",
              "  }\n",
              "\n",
              "  .colab-df-quickchart {\n",
              "    background-color: var(--bg-color);\n",
              "    border: none;\n",
              "    border-radius: 50%;\n",
              "    cursor: pointer;\n",
              "    display: none;\n",
              "    fill: var(--fill-color);\n",
              "    height: 32px;\n",
              "    padding: 0;\n",
              "    width: 32px;\n",
              "  }\n",
              "\n",
              "  .colab-df-quickchart:hover {\n",
              "    background-color: var(--hover-bg-color);\n",
              "    box-shadow: 0 1px 2px rgba(60, 64, 67, 0.3), 0 1px 3px 1px rgba(60, 64, 67, 0.15);\n",
              "    fill: var(--button-hover-fill-color);\n",
              "  }\n",
              "\n",
              "  .colab-df-quickchart-complete:disabled,\n",
              "  .colab-df-quickchart-complete:disabled:hover {\n",
              "    background-color: var(--disabled-bg-color);\n",
              "    fill: var(--disabled-fill-color);\n",
              "    box-shadow: none;\n",
              "  }\n",
              "\n",
              "  .colab-df-spinner {\n",
              "    border: 2px solid var(--fill-color);\n",
              "    border-color: transparent;\n",
              "    border-bottom-color: var(--fill-color);\n",
              "    animation:\n",
              "      spin 1s steps(1) infinite;\n",
              "  }\n",
              "\n",
              "  @keyframes spin {\n",
              "    0% {\n",
              "      border-color: transparent;\n",
              "      border-bottom-color: var(--fill-color);\n",
              "      border-left-color: var(--fill-color);\n",
              "    }\n",
              "    20% {\n",
              "      border-color: transparent;\n",
              "      border-left-color: var(--fill-color);\n",
              "      border-top-color: var(--fill-color);\n",
              "    }\n",
              "    30% {\n",
              "      border-color: transparent;\n",
              "      border-left-color: var(--fill-color);\n",
              "      border-top-color: var(--fill-color);\n",
              "      border-right-color: var(--fill-color);\n",
              "    }\n",
              "    40% {\n",
              "      border-color: transparent;\n",
              "      border-right-color: var(--fill-color);\n",
              "      border-top-color: var(--fill-color);\n",
              "    }\n",
              "    60% {\n",
              "      border-color: transparent;\n",
              "      border-right-color: var(--fill-color);\n",
              "    }\n",
              "    80% {\n",
              "      border-color: transparent;\n",
              "      border-right-color: var(--fill-color);\n",
              "      border-bottom-color: var(--fill-color);\n",
              "    }\n",
              "    90% {\n",
              "      border-color: transparent;\n",
              "      border-bottom-color: var(--fill-color);\n",
              "    }\n",
              "  }\n",
              "</style>\n",
              "\n",
              "      <script>\n",
              "        async function quickchart(key) {\n",
              "          const quickchartButtonEl =\n",
              "            document.querySelector('#' + key + ' button');\n",
              "          quickchartButtonEl.disabled = true;  // To prevent multiple clicks.\n",
              "          quickchartButtonEl.classList.add('colab-df-spinner');\n",
              "          try {\n",
              "            const charts = await google.colab.kernel.invokeFunction(\n",
              "                'suggestCharts', [key], {});\n",
              "          } catch (error) {\n",
              "            console.error('Error during call to suggestCharts:', error);\n",
              "          }\n",
              "          quickchartButtonEl.classList.remove('colab-df-spinner');\n",
              "          quickchartButtonEl.classList.add('colab-df-quickchart-complete');\n",
              "        }\n",
              "        (() => {\n",
              "          let quickchartButtonEl =\n",
              "            document.querySelector('#df-c6b406c7-a86b-423e-bdb6-22881f04fafb button');\n",
              "          quickchartButtonEl.style.display =\n",
              "            google.colab.kernel.accessAllowed ? 'block' : 'none';\n",
              "        })();\n",
              "      </script>\n",
              "    </div>\n",
              "\n",
              "    </div>\n",
              "  </div>\n"
            ],
            "application/vnd.google.colaboratory.intrinsic+json": {
              "type": "dataframe",
              "variable_name": "df"
            }
          },
          "metadata": {},
          "execution_count": 4
        }
      ]
    },
    {
      "cell_type": "markdown",
      "source": [
        "Label ---> target class\n",
        "785 --> columns"
      ],
      "metadata": {
        "id": "PW-CivN2YThy"
      }
    },
    {
      "cell_type": "code",
      "source": [
        "# Create a 4x4 grid of images\n",
        "fig, axes = plt.subplots(4, 4, figsize=(10, 10))\n",
        "fig.suptitle(\"First 16 Images\", fontsize=16)\n",
        "\n",
        "# Plot the first 16 images from the dataset\n",
        "for i, ax in enumerate(axes.flat):\n",
        "    img = df.iloc[i, 1:].values.reshape(28, 28)  # Reshape to 28x28\n",
        "    ax.imshow(img)  # Display in grayscale\n",
        "    ax.axis('off')  # Remove axis for a cleaner look\n",
        "    ax.set_title(f\"Label: {df.iloc[i, 0]}\")  # Show the label\n",
        "\n",
        "plt.tight_layout(rect=[0, 0, 1, 0.96])  # Adjust layout to fit the title\n",
        "plt.show()\n"
      ],
      "metadata": {
        "colab": {
          "base_uri": "https://localhost:8080/",
          "height": 1000
        },
        "id": "2jG5cNjqVaej",
        "outputId": "e6a6fd36-cf45-4bdd-b7be-9b575e89e1d8"
      },
      "execution_count": null,
      "outputs": [
        {
          "output_type": "display_data",
          "data": {
            "text/plain": [
              "<Figure size 1000x1000 with 16 Axes>"
            ],
            "image/png": "[encoded data removed]"
          },
          "metadata": {}
        }
      ]
    },
    {
      "cell_type": "code",
      "source": [
        "# train test split\n",
        "\n",
        "X = df.iloc[:,1:].values\n",
        "y = df.iloc[:,0].values\n"
      ],
      "metadata": {
        "id": "9AXWXCFZVahL"
      },
      "execution_count": null,
      "outputs": []
    },
    {
      "cell_type": "code",
      "source": [
        "X_train, X_test, y_train, y_test = train_test_split(X, y , test_size = 0.2, random_state = 42)"
      ],
      "metadata": {
        "id": "WZgBGvGoVakS"
      },
      "execution_count": null,
      "outputs": []
    },
    {
      "cell_type": "code",
      "source": [
        "# scaling the features\n",
        "\n",
        "X_train = X_train/255.0    # bcuz of pixel size b/w (0-255)\n",
        "X_test = X_test/255.0"
      ],
      "metadata": {
        "id": "MP9cy3NFZ10x"
      },
      "execution_count": null,
      "outputs": []
    },
    {
      "cell_type": "code",
      "source": [
        "# create CustomDataset Class\n",
        "\n",
        "class CustomDataset(Dataset):\n",
        "\n",
        "    def __init__(self,features,labels):\n",
        "\n",
        "        self.features = torch.tensor(features, dtype = torch.float32)\n",
        "        self.labels = torch.tensor(labels, dtype = torch.long)\n",
        "\n",
        "    def __len__(self): # count no. of rows\n",
        "\n",
        "        return len(self.features)\n",
        "# So if you have 60,000 images in Fashion-MNIST, __len__ will return 60,000.\n",
        "# It’s just telling PyTorch: “Hey, there are 60,000 samples here in total.”\n",
        "\n",
        "    def __getitem__(self,index): # fetching one item by index\n",
        "\n",
        "        return self.features[index], self.labels[index]\n",
        "\n",
        "# When PyTorch wants a particular piece of data (like the 5th image and label),\n",
        "# __getitem__ is the function that hands over that single image and its label.\n"
      ],
      "metadata": {
        "id": "psm0KUPSaoDj"
      },
      "execution_count": null,
      "outputs": []
    },
    {
      "cell_type": "code",
      "source": [
        "# create train_dataset object\n",
        "train_dataset = CustomDataset(X_train, y_train)\n",
        "\n",
        "# create test_dataset object\n",
        "test_dataset = CustomDataset(X_test,y_test)"
      ],
      "metadata": {
        "id": "02wcNdbZgqph"
      },
      "execution_count": null,
      "outputs": []
    },
    {
      "cell_type": "code",
      "source": [
        "len(train_dataset)"
      ],
      "metadata": {
        "colab": {
          "base_uri": "https://localhost:8080/"
        },
        "id": "FtegMbzAgqsD",
        "outputId": "710cf32b-7d4b-48aa-8766-f101d64860af"
      },
      "execution_count": null,
      "outputs": [
        {
          "output_type": "execute_result",
          "data": {
            "text/plain": [
              "48000"
            ]
          },
          "metadata": {},
          "execution_count": 11
        }
      ]
    },
    {
      "cell_type": "code",
      "source": [
        "# create train and test loader\n",
        "\n",
        "train_loader = DataLoader(train_dataset, batch_size = 32, shuffle = True, pin_memory = True) #\n",
        "test_loader = DataLoader(test_dataset, batch_size = 32, shuffle = False, pin_memory= True)\n",
        "\n",
        "# pin_memory --> increases the speed of training on GPU"
      ],
      "metadata": {
        "id": "75CkqfJZhX3a"
      },
      "execution_count": null,
      "outputs": []
    },
    {
      "cell_type": "markdown",
      "source": [
        "### Design Neural Network Architecture:"
      ],
      "metadata": {
        "id": "a7r-cishnbDR"
      }
    },
    {
      "cell_type": "markdown",
      "source": [
        "![WhatsApp Image 2025-08-17 at 6.16.43 PM.jpeg](data:image/jpeg;base64,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)"
      ],
      "metadata": {
        "id": "5StUTllSEMwN"
      }
    },
    {
      "cell_type": "code",
      "source": [
        "# define NN Class\n",
        "\n",
        "class MyNN(nn.Module):\n",
        "\n",
        "    def __init__(self,num_features):\n",
        "\n",
        "        super().__init__()\n",
        "        self.model = nn.Sequential(\n",
        "            nn.Linear(num_features, 128),\n",
        "            nn.ReLU(),\n",
        "            nn.Linear(128,64),\n",
        "            nn.ReLU(),\n",
        "            nn.Linear(64,10)\n",
        "        )\n",
        "    def forward(self,x):\n",
        "\n",
        "        return self.model(x)\n",
        "\n"
      ],
      "metadata": {
        "id": "vgX-rkk9iI2H"
      },
      "execution_count": null,
      "outputs": []
    },
    {
      "cell_type": "markdown",
      "source": [
        "### Initialize Parameters:"
      ],
      "metadata": {
        "id": "xK3DTZZjngaw"
      }
    },
    {
      "cell_type": "code",
      "source": [
        "# set learning rate and epochs\n",
        "\n",
        "epochs = 100\n",
        "learning_rate = 0.1"
      ],
      "metadata": {
        "id": "E8KDf-_qiI4a"
      },
      "execution_count": null,
      "outputs": []
    },
    {
      "cell_type": "code",
      "source": [
        "X_train.shape"
      ],
      "metadata": {
        "colab": {
          "base_uri": "https://localhost:8080/"
        },
        "id": "DBPaK721-ofq",
        "outputId": "7f37577c-987b-47ef-ed32-4c65bb6dcded"
      },
      "execution_count": null,
      "outputs": [
        {
          "output_type": "execute_result",
          "data": {
            "text/plain": [
              "(48000, 784)"
            ]
          },
          "metadata": {},
          "execution_count": 15
        }
      ]
    },
    {
      "cell_type": "code",
      "source": [
        "# initiate the model\n",
        "model = MyNN(X_train.shape[1])\n",
        "\n",
        "# Move the Device to GPU\n",
        "model.to(device)\n",
        "\n",
        "# Loss function\n",
        "criterion = nn.CrossEntropyLoss()\n",
        "\n",
        "# Optimizer\n",
        "optimizer = optim.SGD(model.parameters(), lr=learning_rate)\n",
        "\n"
      ],
      "metadata": {
        "id": "Y5nZdt7iiI6f"
      },
      "execution_count": null,
      "outputs": []
    },
    {
      "cell_type": "code",
      "source": [
        "len(train_loader)"
      ],
      "metadata": {
        "colab": {
          "base_uri": "https://localhost:8080/"
        },
        "id": "R0JMAp7nmoj5",
        "outputId": "53f06815-0c6c-4ca3-ac23-e3758edcf295"
      },
      "execution_count": null,
      "outputs": [
        {
          "output_type": "execute_result",
          "data": {
            "text/plain": [
              "1500"
            ]
          },
          "metadata": {},
          "execution_count": 17
        }
      ]
    },
    {
      "cell_type": "code",
      "source": [
        "## training loop\n",
        "\n",
        "for epoch in range(epochs):\n",
        "    total_epoch_loss = 0\n",
        "\n",
        "    # modify the training loop by moving data to GPU\n",
        "    for batch_features, batch_labels in train_loader:\n",
        "\n",
        "\n",
        "        # modify the training loop by moving data to GPU\n",
        "        batch_features, batch_labels =  batch_features.to(device), batch_labels.to(device)\n",
        "\n",
        "\n",
        "        # forward pass\n",
        "        outputs = model(batch_features)\n",
        "\n",
        "\n",
        "        # calculate loss\n",
        "        loss = criterion(outputs, batch_labels)\n",
        "\n",
        "\n",
        "        # zero gradients\n",
        "        optimizer.zero_grad()\n",
        "\n",
        "\n",
        "        # backward pass\n",
        "        loss.backward()\n",
        "\n",
        "\n",
        "        # update weights\n",
        "        optimizer.step()\n",
        "\n",
        "        total_epoch_loss = total_epoch_loss + loss.item()\n",
        "\n",
        "\n",
        "    avg_loss = total_epoch_loss/len(train_loader)\n",
        "    print(f\"Epoch: {epoch+1}, Loss: {avg_loss}\")\n",
        "\n",
        "\n",
        "\n",
        "\n"
      ],
      "metadata": {
        "colab": {
          "base_uri": "https://localhost:8080/"
        },
        "id": "XUvWV_LEiI8k",
        "outputId": "4eceec2b-f8d5-43a4-fff8-48656b8e7a28"
      },
      "execution_count": null,
      "outputs": [
        {
          "output_type": "stream",
          "name": "stdout",
          "text": [
            "Epoch: 1, Loss: 0.637534214446942\n",
            "Epoch: 2, Loss: 0.43096413088341556\n",
            "Epoch: 3, Loss: 0.38776859869559605\n",
            "Epoch: 4, Loss: 0.3586657988280058\n",
            "Epoch: 5, Loss: 0.33963660384714606\n",
            "Epoch: 6, Loss: 0.32304014546920856\n",
            "Epoch: 7, Loss: 0.30772140151758987\n",
            "Epoch: 8, Loss: 0.29805163546899954\n",
            "Epoch: 9, Loss: 0.28414913012832405\n",
            "Epoch: 10, Loss: 0.27700232282280923\n",
            "Epoch: 11, Loss: 0.2671942338421941\n",
            "Epoch: 12, Loss: 0.25814817342783014\n",
            "Epoch: 13, Loss: 0.2506980240481595\n",
            "Epoch: 14, Loss: 0.24593632372965415\n",
            "Epoch: 15, Loss: 0.23949053258324662\n",
            "Epoch: 16, Loss: 0.23083305982500316\n",
            "Epoch: 17, Loss: 0.2277292023661236\n",
            "Epoch: 18, Loss: 0.2184666348018994\n",
            "Epoch: 19, Loss: 0.2165429878445963\n",
            "Epoch: 20, Loss: 0.2097967039036254\n",
            "Epoch: 21, Loss: 0.2064008676589777\n",
            "Epoch: 22, Loss: 0.19970217662180464\n",
            "Epoch: 23, Loss: 0.19729097264880935\n",
            "Epoch: 24, Loss: 0.1924908109928171\n",
            "Epoch: 25, Loss: 0.18724834281392397\n",
            "Epoch: 26, Loss: 0.18350460652882855\n",
            "Epoch: 27, Loss: 0.1787385233292977\n",
            "Epoch: 28, Loss: 0.17513099210026364\n",
            "Epoch: 29, Loss: 0.1744910021889955\n",
            "Epoch: 30, Loss: 0.16878242299860965\n",
            "Epoch: 31, Loss: 0.16814513459801675\n",
            "Epoch: 32, Loss: 0.16431267846484357\n",
            "Epoch: 33, Loss: 0.15963421250352014\n",
            "Epoch: 34, Loss: 0.16040370629463965\n",
            "Epoch: 35, Loss: 0.15548979013878853\n",
            "Epoch: 36, Loss: 0.14941901480065037\n",
            "Epoch: 37, Loss: 0.1492896164872994\n",
            "Epoch: 38, Loss: 0.14989396632633484\n",
            "Epoch: 39, Loss: 0.14246413304315259\n",
            "Epoch: 40, Loss: 0.139149607937783\n",
            "Epoch: 41, Loss: 0.14099056656363732\n",
            "Epoch: 42, Loss: 0.1366248584886392\n",
            "Epoch: 43, Loss: 0.1333815351802235\n",
            "Epoch: 44, Loss: 0.13341446570726112\n",
            "Epoch: 45, Loss: 0.12836053157690913\n",
            "Epoch: 46, Loss: 0.12649157478970785\n",
            "Epoch: 47, Loss: 0.12352281418970476\n",
            "Epoch: 48, Loss: 0.12669095444787914\n",
            "Epoch: 49, Loss: 0.12083950524792696\n",
            "Epoch: 50, Loss: 0.11953354101705675\n",
            "Epoch: 51, Loss: 0.1149485444391612\n",
            "Epoch: 52, Loss: 0.11130473389523104\n",
            "Epoch: 53, Loss: 0.1134609991312027\n",
            "Epoch: 54, Loss: 0.11103011533586929\n",
            "Epoch: 55, Loss: 0.1121662080011641\n",
            "Epoch: 56, Loss: 0.10833226489539569\n",
            "Epoch: 57, Loss: 0.10340376702804739\n",
            "Epoch: 58, Loss: 0.10750874902831856\n",
            "Epoch: 59, Loss: 0.10374195345398039\n",
            "Epoch: 60, Loss: 0.10482727034405495\n",
            "Epoch: 61, Loss: 0.1045460087802882\n",
            "Epoch: 62, Loss: 0.09765717586223036\n",
            "Epoch: 63, Loss: 0.10063785646103011\n",
            "Epoch: 64, Loss: 0.09782211051764898\n",
            "Epoch: 65, Loss: 0.09642860705358908\n",
            "Epoch: 66, Loss: 0.09874792990846618\n",
            "Epoch: 67, Loss: 0.08850305999970684\n",
            "Epoch: 68, Loss: 0.08853710561036132\n",
            "Epoch: 69, Loss: 0.08494580746092834\n",
            "Epoch: 70, Loss: 0.08793453697404281\n",
            "Epoch: 71, Loss: 0.08712417854291077\n",
            "Epoch: 72, Loss: 0.08809263486252167\n",
            "Epoch: 73, Loss: 0.08560372856965599\n",
            "Epoch: 74, Loss: 0.08093595097276071\n",
            "Epoch: 75, Loss: 0.08079826300420488\n",
            "Epoch: 76, Loss: 0.08580769992920008\n",
            "Epoch: 77, Loss: 0.07467353313633551\n",
            "Epoch: 78, Loss: 0.07939884102740324\n",
            "Epoch: 79, Loss: 0.07665222676629976\n",
            "Epoch: 80, Loss: 0.07563896949428212\n",
            "Epoch: 81, Loss: 0.07669223684888372\n",
            "Epoch: 82, Loss: 0.07219151459502367\n",
            "Epoch: 83, Loss: 0.07078674502966655\n",
            "Epoch: 84, Loss: 0.07379857765496127\n",
            "Epoch: 85, Loss: 0.07790899906499545\n",
            "Epoch: 86, Loss: 0.06917526298029891\n",
            "Epoch: 87, Loss: 0.07178193889880398\n",
            "Epoch: 88, Loss: 0.07069501878653925\n",
            "Epoch: 89, Loss: 0.07049753551015359\n",
            "Epoch: 90, Loss: 0.06577289261263407\n",
            "Epoch: 91, Loss: 0.06839146969216867\n",
            "Epoch: 92, Loss: 0.06199929847473201\n",
            "Epoch: 93, Loss: 0.06285331150567314\n",
            "Epoch: 94, Loss: 0.06665878749687303\n",
            "Epoch: 95, Loss: 0.06954803247036762\n",
            "Epoch: 96, Loss: 0.061523512470322506\n",
            "Epoch: 97, Loss: 0.0648274228903853\n",
            "Epoch: 98, Loss: 0.05588439927634317\n",
            "Epoch: 99, Loss: 0.06681729430287184\n",
            "Epoch: 100, Loss: 0.054710109694089626\n"
          ]
        }
      ]
    },
    {
      "cell_type": "code",
      "source": [
        "# evaluation\n",
        "\n",
        "model.eval()"
      ],
      "metadata": {
        "colab": {
          "base_uri": "https://localhost:8080/"
        },
        "id": "3gOlf4SZiI-6",
        "outputId": "c2e39ffd-9d1a-4785-d431-7a0b0b0e9506"
      },
      "execution_count": null,
      "outputs": [
        {
          "output_type": "execute_result",
          "data": {
            "text/plain": [
              "MyNN(\n",
              "  (model): Sequential(\n",
              "    (0): Linear(in_features=784, out_features=128, bias=True)\n",
              "    (1): ReLU()\n",
              "    (2): Linear(in_features=128, out_features=64, bias=True)\n",
              "    (3): ReLU()\n",
              "    (4): Linear(in_features=64, out_features=10, bias=True)\n",
              "  )\n",
              ")"
            ]
          },
          "metadata": {},
          "execution_count": 20
        }
      ]
    },
    {
      "cell_type": "code",
      "source": [
        "# evaluation code\n",
        "total = 0\n",
        "correct = 0\n",
        "\n",
        "with torch.no_grad():\n",
        "\n",
        "  for batch_features, batch_labels in test_loader:\n",
        "\n",
        "    # modify the evaluation loop by moving data to GPU\n",
        "    batch_features, batch_labels =  batch_features.to(device), batch_labels.to(device)\n",
        "\n",
        "    outputs = model(batch_features)\n",
        "\n",
        "    _, predicted = torch.max(outputs, 1)\n",
        "\n",
        "    total = total + batch_labels.shape[0]\n",
        "\n",
        "    correct = correct + (predicted == batch_labels).sum().item()\n",
        "\n",
        "print(correct/total)\n"
      ],
      "metadata": {
        "colab": {
          "base_uri": "https://localhost:8080/"
        },
        "id": "qxc4b-8niJBQ",
        "outputId": "e1194fc8-b84e-49f6-8d37-b1833b565836"
      },
      "execution_count": null,
      "outputs": [
        {
          "output_type": "stream",
          "name": "stdout",
          "text": [
            "0.8905833333333333\n"
          ]
        }
      ]
    },
    {
      "cell_type": "code",
      "source": [],
      "metadata": {
        "id": "0P7o-46n71-3"
      },
      "execution_count": null,
      "outputs": []
    }
  ]
}