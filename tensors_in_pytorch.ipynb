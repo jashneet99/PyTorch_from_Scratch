{
  "nbformat": 4,
  "nbformat_minor": 0,
  "metadata": {
    "colab": {
      "provenance": [],
      "gpuType": "T4"
    },
    "kernelspec": {
      "name": "python3",
      "display_name": "Python 3"
    },
    "language_info": {
      "name": "python"
    },
    "accelerator": "GPU"
  },
  "cells": [
    {
      "cell_type": "code",
      "execution_count": null,
      "metadata": {
        "colab": {
          "base_uri": "https://localhost:8080/"
        },
        "id": "2bWRuQU7ueAj",
        "outputId": "9a687a91-4abd-4b1a-c8d6-48f3a0b6bd79"
      },
      "outputs": [
        {
          "output_type": "stream",
          "name": "stdout",
          "text": [
            "2.6.0+cu124\n"
          ]
        }
      ],
      "source": [
        "import torch\n",
        "print(torch.__version__)"
      ]
    },
    {
      "cell_type": "code",
      "source": [
        "if torch.cuda.is_available():\n",
        "    print(\"CUDA is available\")\n",
        "    print(f\"Using Gpu : {torch.cuda.get_device_name(0)}\")\n",
        "else:\n",
        "    print(\"GPU is not available\")"
      ],
      "metadata": {
        "colab": {
          "base_uri": "https://localhost:8080/"
        },
        "id": "k1naV9F_up-A",
        "outputId": "d7b086df-bcf0-4dff-ebb2-c731c424b3e9"
      },
      "execution_count": null,
      "outputs": [
        {
          "output_type": "stream",
          "name": "stdout",
          "text": [
            "GPU is not available\n"
          ]
        }
      ]
    },
    {
      "cell_type": "markdown",
      "source": [
        "# Creating a Tensor"
      ],
      "metadata": {
        "id": "YwGLs3wnvEXT"
      }
    },
    {
      "cell_type": "code",
      "source": [
        "# using empty\n",
        "\n",
        "torch.empty(2,3)\n"
      ],
      "metadata": {
        "colab": {
          "base_uri": "https://localhost:8080/"
        },
        "id": "vrT2RmwdvCn4",
        "outputId": "78fa9bda-239c-49a7-a04a-d29f817c0a26"
      },
      "execution_count": null,
      "outputs": [
        {
          "output_type": "execute_result",
          "data": {
            "text/plain": [
              "tensor([[1.8261e+25, 4.3271e-41, 1.8261e+25],\n",
              "        [4.3271e-41, 4.4842e-44, 0.0000e+00]])"
            ]
          },
          "metadata": {},
          "execution_count": 18
        }
      ]
    },
    {
      "cell_type": "code",
      "source": [
        "# type\n",
        "\n",
        "type(a)"
      ],
      "metadata": {
        "colab": {
          "base_uri": "https://localhost:8080/"
        },
        "id": "WSEATjfHvL6a",
        "outputId": "23fc611e-68f6-46c3-ae90-8792cf80018a"
      },
      "execution_count": null,
      "outputs": [
        {
          "output_type": "execute_result",
          "data": {
            "text/plain": [
              "torch.Tensor"
            ]
          },
          "metadata": {},
          "execution_count": 5
        }
      ]
    },
    {
      "cell_type": "code",
      "source": [
        "# using zeros\n",
        "torch.zeros(2,3)"
      ],
      "metadata": {
        "colab": {
          "base_uri": "https://localhost:8080/"
        },
        "id": "ydLcCuelvcun",
        "outputId": "94d06261-ac95-44cf-989b-5c6b71cdf8b5"
      },
      "execution_count": null,
      "outputs": [
        {
          "output_type": "execute_result",
          "data": {
            "text/plain": [
              "tensor([[0., 0., 0.],\n",
              "        [0., 0., 0.]])"
            ]
          },
          "metadata": {},
          "execution_count": 8
        }
      ]
    },
    {
      "cell_type": "code",
      "source": [
        "# using ones\n",
        "\n",
        "torch.ones(2,3)"
      ],
      "metadata": {
        "colab": {
          "base_uri": "https://localhost:8080/"
        },
        "id": "1yafTG1Pvfsm",
        "outputId": "b9b2b97c-8fd6-4c90-cf65-347fc528bdea"
      },
      "execution_count": null,
      "outputs": [
        {
          "output_type": "execute_result",
          "data": {
            "text/plain": [
              "tensor([[1., 1., 1.],\n",
              "        [1., 1., 1.]])"
            ]
          },
          "metadata": {},
          "execution_count": 9
        }
      ]
    },
    {
      "cell_type": "code",
      "source": [
        "# using rand\n",
        "\n",
        "torch.rand(2,3)       # it will create value between (0-1) and everytime we run the notebook, it will generate the random values"
      ],
      "metadata": {
        "colab": {
          "base_uri": "https://localhost:8080/"
        },
        "id": "K4cWrzKJvozh",
        "outputId": "1c05195a-d7d1-4933-e520-e86399e214da"
      },
      "execution_count": null,
      "outputs": [
        {
          "output_type": "execute_result",
          "data": {
            "text/plain": [
              "tensor([[0.7441, 0.2216, 0.0799],\n",
              "        [0.9028, 0.2945, 0.1370]])"
            ]
          },
          "metadata": {},
          "execution_count": 11
        }
      ]
    },
    {
      "cell_type": "code",
      "source": [
        "# using seed\n",
        "\n",
        "torch.manual_seed(100)   # it will generate the same random nos. whenever we run the notebook\n",
        "torch.rand(2,3)\n",
        "\n"
      ],
      "metadata": {
        "colab": {
          "base_uri": "https://localhost:8080/"
        },
        "id": "NQaovEyRvucZ",
        "outputId": "67c3873f-94ea-4c92-b62a-dbe511fc6fd0"
      },
      "execution_count": null,
      "outputs": [
        {
          "output_type": "execute_result",
          "data": {
            "text/plain": [
              "tensor([[0.1117, 0.8158, 0.2626],\n",
              "        [0.4839, 0.6765, 0.7539]])"
            ]
          },
          "metadata": {},
          "execution_count": 12
        }
      ]
    },
    {
      "cell_type": "code",
      "source": [
        "# generate custom tensors\n",
        "\n",
        "torch.tensor([[1,2,3],[4,5,6]])"
      ],
      "metadata": {
        "colab": {
          "base_uri": "https://localhost:8080/"
        },
        "id": "DwE8PnyBwl1j",
        "outputId": "d1294829-9143-4da9-a71b-fb2e95b0b329"
      },
      "execution_count": null,
      "outputs": [
        {
          "output_type": "execute_result",
          "data": {
            "text/plain": [
              "tensor([[1, 2, 3],\n",
              "        [4, 5, 6]])"
            ]
          },
          "metadata": {},
          "execution_count": 13
        }
      ]
    },
    {
      "cell_type": "code",
      "source": [
        "# other ways\n",
        "\n",
        "# arange\n",
        "print(\"using arange ->\", torch.arange(0,10,2))\n",
        "\n",
        "# using linspace     # linearly spaced\n",
        "print(\"using linspace ->\", torch.linspace(0,10,10))\n",
        "\n",
        "# using eye         # identity matrix-- diagonal elms are \"1\" rest are \"0\"\n",
        "print(\"using eye ->\", torch.eye(5))\n",
        "\n",
        "# using full\n",
        "print(\"using full ->\", torch.full((3,3),5))"
      ],
      "metadata": {
        "colab": {
          "base_uri": "https://localhost:8080/"
        },
        "id": "7w7yhfOqwl4I",
        "outputId": "d10c21b9-0e30-4c01-a92e-0a4a7c546164"
      },
      "execution_count": null,
      "outputs": [
        {
          "output_type": "stream",
          "name": "stdout",
          "text": [
            "using arange -> tensor([0, 2, 4, 6, 8])\n",
            "using linspace -> tensor([ 0.0000,  1.1111,  2.2222,  3.3333,  4.4444,  5.5556,  6.6667,  7.7778,\n",
            "         8.8889, 10.0000])\n",
            "using eye -> tensor([[1., 0., 0., 0., 0.],\n",
            "        [0., 1., 0., 0., 0.],\n",
            "        [0., 0., 1., 0., 0.],\n",
            "        [0., 0., 0., 1., 0.],\n",
            "        [0., 0., 0., 0., 1.]])\n",
            "using full -> tensor([[5, 5, 5],\n",
            "        [5, 5, 5],\n",
            "        [5, 5, 5]])\n"
          ]
        }
      ]
    },
    {
      "cell_type": "markdown",
      "source": [
        "# Tensor Shapes"
      ],
      "metadata": {
        "id": "OEtJpWap3GQ0"
      }
    },
    {
      "cell_type": "code",
      "source": [
        "x = torch.tensor([[1,2,3],[4,5,6]])\n",
        "type(x)"
      ],
      "metadata": {
        "colab": {
          "base_uri": "https://localhost:8080/"
        },
        "id": "72m94HYiwl6s",
        "outputId": "ad185bfc-6d11-49c1-9641-d13e51003546"
      },
      "execution_count": null,
      "outputs": [
        {
          "output_type": "execute_result",
          "data": {
            "text/plain": [
              "torch.Tensor"
            ]
          },
          "metadata": {},
          "execution_count": 21
        }
      ]
    },
    {
      "cell_type": "code",
      "source": [
        "x.shape"
      ],
      "metadata": {
        "colab": {
          "base_uri": "https://localhost:8080/"
        },
        "id": "ZpQ-QK73wl9D",
        "outputId": "102f8ebf-0f01-4a8f-a5ba-0188e07a753d"
      },
      "execution_count": null,
      "outputs": [
        {
          "output_type": "execute_result",
          "data": {
            "text/plain": [
              "torch.Size([2, 3])"
            ]
          },
          "metadata": {},
          "execution_count": 22
        }
      ]
    },
    {
      "cell_type": "code",
      "source": [
        "torch.empty_like(x) # will create the same dim. matrix like \"x\" but with diff. values"
      ],
      "metadata": {
        "colab": {
          "base_uri": "https://localhost:8080/"
        },
        "id": "vWOxeDaLwl_Z",
        "outputId": "1ac213da-7a0b-42a9-fee4-685695f86a7b"
      },
      "execution_count": null,
      "outputs": [
        {
          "output_type": "execute_result",
          "data": {
            "text/plain": [
              "tensor([[493921239150, 489626271855, 390842023976],\n",
              "        [210453397595, 214748364844, 219043332140]])"
            ]
          },
          "metadata": {},
          "execution_count": 23
        }
      ]
    },
    {
      "cell_type": "code",
      "source": [
        "torch.zeros_like(x)"
      ],
      "metadata": {
        "colab": {
          "base_uri": "https://localhost:8080/"
        },
        "id": "_yaSC6n9wmBu",
        "outputId": "98cd9b0c-ec1c-434f-eb12-4141311ac325"
      },
      "execution_count": null,
      "outputs": [
        {
          "output_type": "execute_result",
          "data": {
            "text/plain": [
              "tensor([[0, 0, 0],\n",
              "        [0, 0, 0]])"
            ]
          },
          "metadata": {},
          "execution_count": 24
        }
      ]
    },
    {
      "cell_type": "code",
      "source": [
        "torch.ones_like(x)"
      ],
      "metadata": {
        "colab": {
          "base_uri": "https://localhost:8080/"
        },
        "id": "POAj40Rx5yug",
        "outputId": "a896a0c4-0fe3-498d-89f3-33551278ad1c"
      },
      "execution_count": null,
      "outputs": [
        {
          "output_type": "execute_result",
          "data": {
            "text/plain": [
              "tensor([[1, 1, 1],\n",
              "        [1, 1, 1]])"
            ]
          },
          "metadata": {},
          "execution_count": 25
        }
      ]
    },
    {
      "cell_type": "code",
      "source": [
        "torch.rand_like(x)       # this will not work bcux rand-- generates the random nos. b/w (0,1)\n",
        "# so we need to give the type\n",
        "# torch.rand_like(x, dtype = torch.float32)"
      ],
      "metadata": {
        "colab": {
          "base_uri": "https://localhost:8080/",
          "height": 144
        },
        "id": "JVv_M2RZ54p1",
        "outputId": "ff942e98-2e5b-445d-f10e-547bae6e02f0"
      },
      "execution_count": null,
      "outputs": [
        {
          "output_type": "error",
          "ename": "RuntimeError",
          "evalue": "\"check_uniform_bounds\" not implemented for 'Long'",
          "traceback": [
            "\u001b[0;31m---------------------------------------------------------------------------\u001b[0m",
            "\u001b[0;31mRuntimeError\u001b[0m                              Traceback (most recent call last)",
            "\u001b[0;32m/tmp/ipython-input-26-964596337.py\u001b[0m in \u001b[0;36m<cell line: 0>\u001b[0;34m()\u001b[0m\n\u001b[0;32m----> 1\u001b[0;31m \u001b[0mtorch\u001b[0m\u001b[0;34m.\u001b[0m\u001b[0mrand_like\u001b[0m\u001b[0;34m(\u001b[0m\u001b[0mx\u001b[0m\u001b[0;34m)\u001b[0m\u001b[0;34m\u001b[0m\u001b[0;34m\u001b[0m\u001b[0m\n\u001b[0m",
            "\u001b[0;31mRuntimeError\u001b[0m: \"check_uniform_bounds\" not implemented for 'Long'"
          ]
        }
      ]
    },
    {
      "cell_type": "markdown",
      "source": [
        "# Tensor Data Type"
      ],
      "metadata": {
        "id": "kQxIj-up8zbY"
      }
    },
    {
      "cell_type": "code",
      "source": [
        "# find data type\n",
        "x.dtype\n"
      ],
      "metadata": {
        "colab": {
          "base_uri": "https://localhost:8080/"
        },
        "id": "1LvTZJ5b82ss",
        "outputId": "153b989f-a1cb-4197-ed23-f936c8b806d4"
      },
      "execution_count": null,
      "outputs": [
        {
          "output_type": "execute_result",
          "data": {
            "text/plain": [
              "torch.int64"
            ]
          },
          "metadata": {},
          "execution_count": 28
        }
      ]
    },
    {
      "cell_type": "code",
      "source": [
        "# assign data type\n",
        "torch.tensor([1.0,2.0,3.0], dtype = torch.int32)"
      ],
      "metadata": {
        "colab": {
          "base_uri": "https://localhost:8080/"
        },
        "id": "nthccEsL86jr",
        "outputId": "6f5fe936-2ec0-459c-b81b-868f3fb919ce"
      },
      "execution_count": null,
      "outputs": [
        {
          "output_type": "execute_result",
          "data": {
            "text/plain": [
              "tensor([1, 2, 3], dtype=torch.int32)"
            ]
          },
          "metadata": {},
          "execution_count": 29
        }
      ]
    },
    {
      "cell_type": "code",
      "source": [
        "# If I want to store them in float\n",
        "torch.tensor([1,2,3], dtype = torch.float64)"
      ],
      "metadata": {
        "colab": {
          "base_uri": "https://localhost:8080/"
        },
        "id": "Tece1VES9O-Y",
        "outputId": "1e255491-13c7-4f80-dc27-1cde675ef00e"
      },
      "execution_count": null,
      "outputs": [
        {
          "output_type": "execute_result",
          "data": {
            "text/plain": [
              "tensor([1., 2., 3.], dtype=torch.float64)"
            ]
          },
          "metadata": {},
          "execution_count": 31
        }
      ]
    },
    {
      "cell_type": "code",
      "source": [
        "# using to()\n",
        "x.to(torch.float64)"
      ],
      "metadata": {
        "colab": {
          "base_uri": "https://localhost:8080/"
        },
        "id": "IxaC5t0o9PDS",
        "outputId": "92176a8d-edef-4370-a6a4-662d4d15baa1"
      },
      "execution_count": null,
      "outputs": [
        {
          "output_type": "execute_result",
          "data": {
            "text/plain": [
              "tensor([[1., 2., 3.],\n",
              "        [4., 5., 6.]], dtype=torch.float64)"
            ]
          },
          "metadata": {},
          "execution_count": 32
        }
      ]
    },
    {
      "cell_type": "markdown",
      "source": [
        "# Tensors Operations on GPU"
      ],
      "metadata": {
        "id": "bVX59Typq9S4"
      }
    },
    {
      "cell_type": "code",
      "source": [
        "torch.cuda.is_available()"
      ],
      "metadata": {
        "colab": {
          "base_uri": "https://localhost:8080/"
        },
        "id": "mLxO0cQk9PF3",
        "outputId": "7b6a4a64-074e-4acc-952b-58be9ef6c575"
      },
      "execution_count": null,
      "outputs": [
        {
          "output_type": "execute_result",
          "data": {
            "text/plain": [
              "True"
            ]
          },
          "metadata": {},
          "execution_count": 3
        }
      ]
    },
    {
      "cell_type": "code",
      "source": [
        "device = torch.device(\"cuda\")"
      ],
      "metadata": {
        "id": "xkNdEGv79PIN"
      },
      "execution_count": null,
      "outputs": []
    },
    {
      "cell_type": "code",
      "source": [
        "# creating a new tensor on GPU\n",
        "\n",
        "torch.rand((2,3), device = device)"
      ],
      "metadata": {
        "colab": {
          "base_uri": "https://localhost:8080/"
        },
        "id": "N8QmicwV9PKS",
        "outputId": "2d447977-d4b1-4f67-8666-f21770c47fef"
      },
      "execution_count": null,
      "outputs": [
        {
          "output_type": "execute_result",
          "data": {
            "text/plain": [
              "tensor([[0.8891, 0.4225, 0.8665],\n",
              "        [0.6287, 0.7016, 0.7378]], device='cuda:0')"
            ]
          },
          "metadata": {},
          "execution_count": 5
        }
      ]
    },
    {
      "cell_type": "code",
      "source": [
        "# moving existing tensor to GPU\n",
        "\n",
        "a = torch.rand(2,3)    # on cpu\n",
        "print(a)\n",
        "\n",
        "b = a.to(device)  # cpu --> gpu\n",
        "print(b)"
      ],
      "metadata": {
        "colab": {
          "base_uri": "https://localhost:8080/"
        },
        "id": "fVizspPG9PM5",
        "outputId": "a2c6f366-952d-45a2-b0e0-8cd4282e365c"
      },
      "execution_count": null,
      "outputs": [
        {
          "output_type": "stream",
          "name": "stdout",
          "text": [
            "tensor([[0.7276, 0.2038, 0.6131],\n",
            "        [0.6827, 0.1752, 0.9444]])\n"
          ]
        },
        {
          "output_type": "execute_result",
          "data": {
            "text/plain": [
              "tensor([[0.7276, 0.2038, 0.6131],\n",
              "        [0.6827, 0.1752, 0.9444]], device='cuda:0')"
            ]
          },
          "metadata": {},
          "execution_count": 7
        }
      ]
    },
    {
      "cell_type": "code",
      "source": [
        "## comparison b/w GPU and CPU\n",
        "\n",
        "import torch\n",
        "import time\n",
        "\n",
        "## Define the size of the matrix\n",
        "size = 10000   # large size for performance comparison\n",
        "\n",
        "# create random matrices on CPU\n",
        "matrix_cpu1 = torch.randn(size, size)\n",
        "matrix_cpu2 = torch.randn(size, size)\n",
        "\n",
        "# measure time on CPU\n",
        "start_time = time.time()\n",
        "result_cpu = torch.matmul(matrix_cpu1, matrix_cpu2)    # Matrix multiplication on CPU\n",
        "cpu_time = time.time() - start_time\n",
        "\n",
        "print(f\"Time taken on CPU: {cpu_time:.4f} seconds\")\n",
        "\n",
        "\n",
        "# Move matrices to GPU\n",
        "\n",
        "matrix_gpu1 = matrix_cpu1.to('cuda')\n",
        "matrix_gpu2 = matrix_cpu2.to(\"cuda\")\n",
        "\n",
        "# Measure time on GPU\n",
        "\n",
        "start_time = time.time()\n",
        "result_gpu = torch.matmul(matrix_gpu1, matrix_gpu2)   # Matrix multiplication on GPU\n",
        "torch.cuda.synchronize()    # ensure all the GPU Operations are complete\n",
        "gpu_time = time.time() - start_time\n",
        "\n",
        "print(f\"Time taken on GPU: {gpu_time:.4f} seconds\")\n",
        "\n",
        "\n",
        "# Compare results\n",
        "\n",
        "print('\\nSpeedup (CPU time / GPU time):', cpu_time / gpu_time)"
      ],
      "metadata": {
        "colab": {
          "base_uri": "https://localhost:8080/"
        },
        "id": "8XUb9WKgsaDU",
        "outputId": "d00a33f9-dbd3-445d-8fcb-7bd1d7dc35ac"
      },
      "execution_count": null,
      "outputs": [
        {
          "output_type": "stream",
          "name": "stdout",
          "text": [
            "Time taken on CPU: 15.0462 seconds\n",
            "Time taken on GPU: 0.7127 seconds\n",
            "\n",
            "Speedup (CPU time / GPU time): 21.112673186770394\n"
          ]
        }
      ]
    },
    {
      "cell_type": "code",
      "source": [],
      "metadata": {
        "id": "AxqWiLU2saG8"
      },
      "execution_count": null,
      "outputs": []
    }
  ]
}