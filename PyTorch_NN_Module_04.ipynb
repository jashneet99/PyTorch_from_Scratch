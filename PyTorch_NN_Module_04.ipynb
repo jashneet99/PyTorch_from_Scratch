{
  "nbformat": 4,
  "nbformat_minor": 0,
  "metadata": {
    "colab": {
      "provenance": []
    },
    "kernelspec": {
      "name": "python3",
      "display_name": "Python 3"
    },
    "language_info": {
      "name": "python"
    }
  },
  "cells": [
    {
      "cell_type": "code",
      "execution_count": null,
      "metadata": {
        "id": "jPDD5d1XquNH"
      },
      "outputs": [],
      "source": [
        "# Example without hidden layer\n",
        "# create model class\n",
        "\n",
        "import torch\n",
        "import torch.nn as nn\n",
        "\n",
        "class Model(nn.Module):   # class \"Model\" needs to be inherit from \"nn.Module\" class in order to use the functionalities of \"nn\" class\n",
        "    def __init__(self,num_features):\n",
        "\n",
        "        super().__init__()  # Calls the constructor of \"nn.Module\" (nn.Module.__init__())\n",
        "        self.linear = nn.Linear(num_features,1)\n",
        "        self.sigmoid = nn.Sigmoid()\n",
        "\n",
        "    def forward(self,features):\n",
        "        out = self.linear(features)   # z = wx+b (z = out)\n",
        "        out = self.sigmoid(out)\n",
        "        return out\n",
        "\n"
      ]
    },
    {
      "cell_type": "code",
      "source": [
        "## create dataset\n",
        "features = torch.rand(10,5)\n",
        "\n",
        "# create model\n",
        "model = Model(features.shape[1])\n",
        "\n",
        "# call model for forward pass\n",
        "model(features)"
      ],
      "metadata": {
        "colab": {
          "base_uri": "https://localhost:8080/"
        },
        "id": "irjdJjUQq7ln",
        "outputId": "63442e6b-e2de-420c-8c2d-7caa78a40002"
      },
      "execution_count": null,
      "outputs": [
        {
          "output_type": "execute_result",
          "data": {
            "text/plain": [
              "tensor([[0.6141],\n",
              "        [0.6454],\n",
              "        [0.5786],\n",
              "        [0.6310],\n",
              "        [0.6863],\n",
              "        [0.6539],\n",
              "        [0.6403],\n",
              "        [0.5608],\n",
              "        [0.7108],\n",
              "        [0.6302]], grad_fn=<SigmoidBackward0>)"
            ]
          },
          "metadata": {},
          "execution_count": 2
        }
      ]
    },
    {
      "cell_type": "code",
      "source": [
        "# Show model weights\n",
        "\n",
        "model.linear.weight\n",
        "# model.linear.bias"
      ],
      "metadata": {
        "colab": {
          "base_uri": "https://localhost:8080/"
        },
        "id": "RNFjKW6mq7oK",
        "outputId": "e6ccca5b-8c8c-46ab-9738-d8762f6bbd09"
      },
      "execution_count": null,
      "outputs": [
        {
          "output_type": "execute_result",
          "data": {
            "text/plain": [
              "Parameter containing:\n",
              "tensor([[ 0.2400,  0.1859,  0.2744, -0.3120,  0.1520]], requires_grad=True)"
            ]
          },
          "metadata": {},
          "execution_count": 3
        }
      ]
    },
    {
      "cell_type": "code",
      "source": [
        "!pip install torchinfo"
      ],
      "metadata": {
        "colab": {
          "base_uri": "https://localhost:8080/"
        },
        "id": "lPeJ4UzTq7qg",
        "outputId": "71fe597c-6afb-4ebe-c642-4bb12e0464a3"
      },
      "execution_count": null,
      "outputs": [
        {
          "output_type": "stream",
          "name": "stdout",
          "text": [
            "Requirement already satisfied: torchinfo in /usr/local/lib/python3.11/dist-packages (1.8.0)\n"
          ]
        }
      ]
    },
    {
      "cell_type": "code",
      "source": [
        "from torchinfo import summary\n",
        "\n",
        "summary(model,input_size = (10,5))"
      ],
      "metadata": {
        "colab": {
          "base_uri": "https://localhost:8080/"
        },
        "id": "N0Z0NyGHq7s3",
        "outputId": "71dfcc12-ea66-47cb-b981-d5d779e34629"
      },
      "execution_count": null,
      "outputs": [
        {
          "output_type": "execute_result",
          "data": {
            "text/plain": [
              "==========================================================================================\n",
              "Layer (type:depth-idx)                   Output Shape              Param #\n",
              "==========================================================================================\n",
              "Model                                    [10, 1]                   --\n",
              "├─Linear: 1-1                            [10, 1]                   6\n",
              "├─Sigmoid: 1-2                           [10, 1]                   --\n",
              "==========================================================================================\n",
              "Total params: 6\n",
              "Trainable params: 6\n",
              "Non-trainable params: 0\n",
              "Total mult-adds (Units.MEGABYTES): 0.00\n",
              "==========================================================================================\n",
              "Input size (MB): 0.00\n",
              "Forward/backward pass size (MB): 0.00\n",
              "Params size (MB): 0.00\n",
              "Estimated Total Size (MB): 0.00\n",
              "=========================================================================================="
            ]
          },
          "metadata": {},
          "execution_count": 5
        }
      ]
    },
    {
      "cell_type": "markdown",
      "source": [
        "## Example using hidden layer"
      ],
      "metadata": {
        "id": "TgYl_Gqz7FUu"
      }
    },
    {
      "cell_type": "markdown",
      "source": [
        "![WhatsApp Image 2025-08-03 at 6.02.35 PM.jpeg](data:image/jpeg;base64,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)"
      ],
      "metadata": {
        "id": "wQl8VWug7IKC"
      }
    },
    {
      "cell_type": "code",
      "source": [
        "# ********\n",
        "\n",
        "import torch\n",
        "import torch.nn as nn\n",
        "\n",
        "class Model(nn.Module):\n",
        "\n",
        "    def __init__(self,num_features):\n",
        "        super().__init__()\n",
        "        self.linear1 = nn.Linear(num_features, 3)  #basically this is hidden layer-- I/P_features->>5 and O/P->> 3\n",
        "        self.relu = nn.ReLU()  # this is activation fxn. of hidden layer\n",
        "\n",
        "        self.linear2 = nn.Linear(3,1)  # basically this is O/P layer\n",
        "        self.sigmoid = nn.Sigmoid()  # this is activation fxn of O/P layer\n",
        "\n",
        "    def forward(self,features):\n",
        "        out = self.linear1(features)\n",
        "        out = self.relu(out)\n",
        "\n",
        "        out = self.linear2(out)\n",
        "        out = self.sigmoid(out)\n",
        "        return out"
      ],
      "metadata": {
        "id": "2xEK0OFV-i5i"
      },
      "execution_count": null,
      "outputs": []
    },
    {
      "cell_type": "code",
      "source": [
        "# create dataset\n",
        "features = torch.rand(10,5)\n",
        "\n",
        "# create model\n",
        "model = Model(features.shape[1])\n",
        "\n",
        "# call model for forward pass\n",
        "model(features)"
      ],
      "metadata": {
        "colab": {
          "base_uri": "https://localhost:8080/"
        },
        "id": "9kbqcOOeq71L",
        "outputId": "66f20cdc-f51f-484b-ecba-8281616e32f0"
      },
      "execution_count": null,
      "outputs": [
        {
          "output_type": "execute_result",
          "data": {
            "text/plain": [
              "tensor([[0.6241],\n",
              "        [0.6380],\n",
              "        [0.6369],\n",
              "        [0.6054],\n",
              "        [0.6093],\n",
              "        [0.6104],\n",
              "        [0.6869],\n",
              "        [0.5976],\n",
              "        [0.6722],\n",
              "        [0.6434]], grad_fn=<SigmoidBackward0>)"
            ]
          },
          "metadata": {},
          "execution_count": 9
        }
      ]
    },
    {
      "cell_type": "code",
      "source": [
        "# show model weights\n",
        "print(model.linear1.weight)\n",
        "print(model.linear2.weight)"
      ],
      "metadata": {
        "colab": {
          "base_uri": "https://localhost:8080/"
        },
        "id": "G50T6KDTq73Q",
        "outputId": "53fc005d-bd10-4dcb-a14d-800e78a6953b"
      },
      "execution_count": null,
      "outputs": [
        {
          "output_type": "stream",
          "name": "stdout",
          "text": [
            "Parameter containing:\n",
            "tensor([[ 0.4103, -0.4342,  0.3489, -0.2354,  0.1810],\n",
            "        [ 0.0824, -0.0017, -0.0472,  0.3610,  0.3865],\n",
            "        [ 0.4058, -0.0501,  0.4249,  0.3436,  0.3340]], requires_grad=True)\n",
            "Parameter containing:\n",
            "tensor([[ 0.2238, -0.2973,  0.4898]], requires_grad=True)\n"
          ]
        }
      ]
    },
    {
      "cell_type": "code",
      "source": [
        "print(model.linear1.bias)\n",
        "print(model.linear2.bias)"
      ],
      "metadata": {
        "colab": {
          "base_uri": "https://localhost:8080/"
        },
        "id": "oVUfnEPz_k_7",
        "outputId": "15389c16-560c-4d77-e7e0-bf998921cfc5"
      },
      "execution_count": null,
      "outputs": [
        {
          "output_type": "stream",
          "name": "stdout",
          "text": [
            "Parameter containing:\n",
            "tensor([ 0.1307, -0.0778, -0.2152], requires_grad=True)\n",
            "Parameter containing:\n",
            "tensor([0.3239], requires_grad=True)\n"
          ]
        }
      ]
    },
    {
      "cell_type": "code",
      "source": [
        "from torchinfo import summary\n",
        "\n",
        "summary(model,input_size = (10,5))"
      ],
      "metadata": {
        "colab": {
          "base_uri": "https://localhost:8080/"
        },
        "id": "arMMgmig_sfR",
        "outputId": "f0dc3517-d832-4b99-c4de-750b14bc159d"
      },
      "execution_count": null,
      "outputs": [
        {
          "output_type": "execute_result",
          "data": {
            "text/plain": [
              "==========================================================================================\n",
              "Layer (type:depth-idx)                   Output Shape              Param #\n",
              "==========================================================================================\n",
              "Model                                    [10, 1]                   --\n",
              "├─Linear: 1-1                            [10, 3]                   18\n",
              "├─ReLU: 1-2                              [10, 3]                   --\n",
              "├─Linear: 1-3                            [10, 1]                   4\n",
              "├─Sigmoid: 1-4                           [10, 1]                   --\n",
              "==========================================================================================\n",
              "Total params: 22\n",
              "Trainable params: 22\n",
              "Non-trainable params: 0\n",
              "Total mult-adds (Units.MEGABYTES): 0.00\n",
              "==========================================================================================\n",
              "Input size (MB): 0.00\n",
              "Forward/backward pass size (MB): 0.00\n",
              "Params size (MB): 0.00\n",
              "Estimated Total Size (MB): 0.00\n",
              "=========================================================================================="
            ]
          },
          "metadata": {},
          "execution_count": 18
        }
      ]
    },
    {
      "cell_type": "code",
      "source": [],
      "metadata": {
        "id": "-KhMqdFhBVSE"
      },
      "execution_count": null,
      "outputs": []
    },
    {
      "cell_type": "markdown",
      "source": [
        "### What Is `nn.Sequential`?\n",
        "#### `nn.Sequential` is a container where you can stack layers in order — one after another — without manually writing self.layer1, self.layer2, etc.\n",
        "\n"
      ],
      "metadata": {
        "id": "dK7WEP0bBV6J"
      }
    },
    {
      "cell_type": "code",
      "source": [
        "# Let’s First Recall Your Original Model:\n",
        "\n",
        "class Model(nn.Module):\n",
        "    def __init__(self, num_features):\n",
        "        super().__init__()\n",
        "        self.linear1 = nn.Linear(num_features, 3)\n",
        "        self.relu = nn.ReLU()\n",
        "        self.linear2 = nn.Linear(3, 1)\n",
        "        self.sigmoid = nn.Sigmoid()\n",
        "\n",
        "    def forward(self, features):\n",
        "        out = self.linear1(features)\n",
        "        out = self.relu(out)\n",
        "        out = self.linear2(out)\n",
        "        out = self.sigmoid(out)\n",
        "        return out\n",
        "\n",
        "# Let’s Rewrite Using nn.Sequential\n",
        "\n",
        "class Model(nn.Module):\n",
        "    def __init__(self, num_features):\n",
        "        super().__init__()\n",
        "        self.network = nn.Sequential(\n",
        "            nn.Linear(num_features, 3),\n",
        "            nn.ReLU(),\n",
        "            nn.Linear(3, 1),\n",
        "            nn.Sigmoid()\n",
        "        )\n",
        "\n",
        "    def forward(self, features):\n",
        "        out = self.network(features)\n",
        "        return out\n",
        "\n"
      ],
      "metadata": {
        "id": "PUOt_KUIBXHb"
      },
      "execution_count": null,
      "outputs": []
    },
    {
      "cell_type": "code",
      "source": [],
      "metadata": {
        "id": "ayvv329u9rQj"
      },
      "execution_count": null,
      "outputs": []
    },
    {
      "cell_type": "code",
      "source": [],
      "metadata": {
        "id": "Zn_2Hy8u9rUt"
      },
      "execution_count": null,
      "outputs": []
    }
  ]
}